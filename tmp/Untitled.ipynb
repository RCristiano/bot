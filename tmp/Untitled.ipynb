{
 "cells": [
  {
   "cell_type": "code",
   "execution_count": 2,
   "id": "planned-footage",
   "metadata": {},
   "outputs": [],
   "source": [
    "import requests"
   ]
  },
  {
   "cell_type": "code",
   "execution_count": 3,
   "metadata": {},
   "outputs": [
    {
     "output_type": "execute_result",
     "data": {
      "text/plain": [
       "('queijo', 'pt_BR')"
      ]
     },
     "metadata": {},
     "execution_count": 3
    }
   ],
   "source": [
    "a, b, *_ = ('queijo' + ' pt_BR').split()\n",
    "a, b"
   ]
  },
  {
   "cell_type": "code",
   "execution_count": 4,
   "id": "familiar-crystal",
   "metadata": {},
   "outputs": [],
   "source": [
    "def define(word_lang):\n",
    "    word, lang, *_ = (word_lang + ' en-US').split()\n",
    "    try:\n",
    "        req = requests.get(f\"https://api.dictionaryapi.dev/api/v2/entries/{lang}/{word}\").json()\n",
    "        return [i['definition'] for i in req[0]['meanings'][0]['definitions']]\n",
    "    except (\n",
    "        requests.exceptions.Timeout,\n",
    "        requests.exceptions.TooManyRedirects,\n",
    "        requests.exceptions.RequestException,\n",
    "        IndexError, # Não retornou o formato esperado\n",
    "        KeyError,   # ...\n",
    "        TypeError   # ...\n",
    "    ) as e:\n",
    "        return 'Falhei misera D:', e, word_lang, word, lang\n",
    "    print ('Não encontrei D: OU você é burro e escreveu errado!')"
   ]
  },
  {
   "cell_type": "code",
   "execution_count": 5,
   "metadata": {},
   "outputs": [],
   "source": [
    "def significado(term):\n",
    "    return define('pt_BR', term)"
   ]
  },
  {
   "cell_type": "code",
   "execution_count": 6,
   "metadata": {},
   "outputs": [
    {
     "output_type": "execute_result",
     "data": {
      "text/plain": [
       "'A person who extorts profit from or sponges on others.'"
      ]
     },
     "metadata": {},
     "execution_count": 6
    }
   ],
   "source": [
    "from random import choice\n",
    "choice(define('leech en_US'))"
   ]
  },
  {
   "cell_type": "code",
   "execution_count": 11,
   "metadata": {},
   "outputs": [
    {
     "output_type": "execute_result",
     "data": {
      "text/plain": [
       "['m.q. MADEIRAMENTO.', \"m.q. ARCABOUÇO ('delineamento').\"]"
      ]
     },
     "metadata": {},
     "execution_count": 11
    }
   ],
   "source": [
    "define('madeirame pt-BR')"
   ]
  },
  {
   "cell_type": "code",
   "execution_count": 9,
   "id": "after-samuel",
   "metadata": {},
   "outputs": [],
   "source": [
    "req=requests.get(f\"https://api.dictionaryapi.dev/api/v2/entries/pt-BR/{'banana'}\").json()\n",
    "aux=[]\n",
    "for i in req[0].get('meanings','Sem definição')[0].get('definitions'): \n",
    "    aux.append([i.get('definition')]) "
   ]
  },
  {
   "cell_type": "code",
   "execution_count": 10,
   "id": "received-insider",
   "metadata": {},
   "outputs": [
    {
     "output_type": "execute_result",
     "data": {
      "text/plain": [
       "'fruto da bananeira, ger. oblongo e de polpa carnosa; pacoba, pacova, pacová [Quando comestível, é um fruto anômalo, sem sementes, desenvolvido por cultura, com casca verde e, quando maduro, amarela, parda ou avermelhada, com polpa brancacenta ou amarelada, pastosa, doce, esp. rica em amido e potássio.].'"
      ]
     },
     "metadata": {},
     "execution_count": 10
    }
   ],
   "source": [
    "aux[0][0]"
   ]
  },
  {
   "cell_type": "code",
   "execution_count": null,
   "metadata": {},
   "outputs": [],
   "source": []
  }
 ],
 "metadata": {
  "kernelspec": {
   "name": "python3",
   "display_name": "Python 3.8.5 64-bit ('telegram-bot-pEUP2I1E-py3.8')",
   "metadata": {
    "interpreter": {
     "hash": "32c4b17a798cb6aad6416db79f35c3bb835640f010e71d07a03952bf5eeb717f"
    }
   }
  },
  "language_info": {
   "codemirror_mode": {
    "name": "ipython",
    "version": 3
   },
   "file_extension": ".py",
   "mimetype": "text/x-python",
   "name": "python",
   "nbconvert_exporter": "python",
   "pygments_lexer": "ipython3",
   "version": "3.8.5-final"
  }
 },
 "nbformat": 4,
 "nbformat_minor": 5
}