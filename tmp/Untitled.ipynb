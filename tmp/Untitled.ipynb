{
 "cells": [
  {
   "cell_type": "code",
   "execution_count": 11,
   "id": "planned-footage",
   "metadata": {},
   "outputs": [],
   "source": [
    "import requests\n",
    "import logging\n",
    "\n",
    "logging.basicConfig(level=logging.INFO,\n",
    "                    format=\"%(asctime)s - %(name)s - %(levelname)s - %(message)s\")\n",
    "\n",
    "logger = logging.getLogger()"
   ]
  },
  {
   "cell_type": "code",
   "execution_count": 12,
   "id": "familiar-crystal",
   "metadata": {},
   "outputs": [],
   "source": [
    "def get_define(term, lang='en-US'):\n",
    "    logger.info(f\"define {term} with lang {lang}\")\n",
    "    try:\n",
    "        req = requests.get(\n",
    "            f\"https://api.dictionaryapi.dev/api/v2/entries/{lang}/{term}\").json()\n",
    "        definitions = \"\\n\".join(\n",
    "            [f'*{i[0]+1}º - * {i[1]}' for i in enumerate(\n",
    "                i['definition'] for i in req[0]['meanings'][0]['definitions'])]\n",
    "        )\n",
    "        return f\"_{str.capitalize(term)}_:\\n\\n{definitions}\"\n",
    "    except (\n",
    "        IndexError,\n",
    "        KeyError,\n",
    "        TypeError\n",
    "    ):   # Não retornou o formato esperado\n",
    "        return False\n",
    "    except (\n",
    "        requests.exceptions.Timeout,\n",
    "        requests.exceptions.TooManyRedirects,\n",
    "        requests.exceptions.RequestException\n",
    "    ) as e:\n",
    "        logger.error(f\"Erro: {e}\")\n",
    "        return str(e)"
   ]
  },
  {
   "cell_type": "code",
   "execution_count": 18,
   "metadata": {},
   "outputs": [
    {
     "output_type": "stream",
     "name": "stderr",
     "text": [
      "2021-03-19 20:51:01,897 - root - INFO - define word with lang en-US\n"
     ]
    },
    {
     "output_type": "execute_result",
     "data": {
      "text/plain": [
       "'_Word_:\\n\\n*1º - * choose and use particular words in order to say or write (something).'"
      ]
     },
     "metadata": {},
     "execution_count": 18
    }
   ],
   "source": [
    "get_define('word')"
   ]
  },
  {
   "cell_type": "code",
   "execution_count": 19,
   "metadata": {},
   "outputs": [
    {
     "output_type": "stream",
     "name": "stderr",
     "text": [
      "2021-03-19 20:51:11,833 - root - INFO - define palavra with lang pt-BR\n"
     ]
    },
    {
     "output_type": "execute_result",
     "data": {
      "text/plain": [
       "\"_Palavra_:\\n\\n*1º - * unidade da língua escrita, situada entre dois espaços em branco, ou entre espaço em branco e sinal de pontuação.\\n*2º - * unidade pertencente a uma das grandes classes gramaticais, como substantivo, verbo, adjetivo etc., não levando em conta as modificações que nela ocorrem nas línguas flexionais, e sim, somente, o significado; vocábulo.\\n*3º - * m.q. VOCÁBULO ('unidade átona').\\n*4º - * unidade mínima com som e significado que pode, sozinha, constituir enunciado; forma livre mínima, vocábulo.\\n*5º - * manifestação verbal escrita; declaração.\\n*6º - * conjunto de palavras; frase.\\n*7º - * capacidade de exprimir ideias por meio de sons articulados; fala.\\n*8º - * discurso curto, ger. pronunciado em ocasião solene; alocução, oração.\\n*9º - * conjunto coerente de ideias fundamentais a serem transmitidas, ensinadas; doutrina.\\n*10º - * compromisso verbal.\\n*11º - * autorização ou direito de falar.\\n*12º - * modo de falar.\\n*13º - * expressa afirmação, convicção.\\n*14º - * promessas falsas.\""
      ]
     },
     "metadata": {},
     "execution_count": 19
    }
   ],
   "source": [
    "get_define('palavra', lang='pt-BR')"
   ]
  },
  {
   "cell_type": "code",
   "execution_count": 15,
   "metadata": {},
   "outputs": [],
   "source": [
    "def significado(term):\n",
    "    return define('pt_BR', term)"
   ]
  },
  {
   "cell_type": "code",
   "execution_count": 16,
   "metadata": {},
   "outputs": [
    {
     "output_type": "error",
     "ename": "NameError",
     "evalue": "name 'define' is not defined",
     "traceback": [
      "\u001b[0;31m---------------------------------------------------------------------------\u001b[0m",
      "\u001b[0;31mNameError\u001b[0m                                 Traceback (most recent call last)",
      "\u001b[0;32m<ipython-input-16-2ce95af3f3cf>\u001b[0m in \u001b[0;36m<module>\u001b[0;34m\u001b[0m\n\u001b[1;32m      1\u001b[0m \u001b[0;32mfrom\u001b[0m \u001b[0mrandom\u001b[0m \u001b[0;32mimport\u001b[0m \u001b[0mchoice\u001b[0m\u001b[0;34m\u001b[0m\u001b[0;34m\u001b[0m\u001b[0m\n\u001b[0;32m----> 2\u001b[0;31m \u001b[0mchoice\u001b[0m\u001b[0;34m(\u001b[0m\u001b[0mdefine\u001b[0m\u001b[0;34m(\u001b[0m\u001b[0;34m'leech en_US'\u001b[0m\u001b[0;34m)\u001b[0m\u001b[0;34m)\u001b[0m\u001b[0;34m\u001b[0m\u001b[0;34m\u001b[0m\u001b[0m\n\u001b[0m",
      "\u001b[0;31mNameError\u001b[0m: name 'define' is not defined"
     ]
    }
   ],
   "source": [
    "from random import choice\n",
    "choice(define('leech en_US'))"
   ]
  },
  {
   "cell_type": "code",
   "execution_count": 11,
   "metadata": {},
   "outputs": [
    {
     "output_type": "execute_result",
     "data": {
      "text/plain": [
       "['m.q. MADEIRAMENTO.', \"m.q. ARCABOUÇO ('delineamento').\"]"
      ]
     },
     "metadata": {},
     "execution_count": 11
    }
   ],
   "source": [
    "define('madeirame pt-BR')"
   ]
  },
  {
   "cell_type": "code",
   "execution_count": 9,
   "id": "after-samuel",
   "metadata": {},
   "outputs": [],
   "source": [
    "req=requests.get(f\"https://api.dictionaryapi.dev/api/v2/entries/pt-BR/{'banana'}\").json()\n",
    "aux=[]\n",
    "for i in req[0].get('meanings','Sem definição')[0].get('definitions'): \n",
    "    aux.append([i.get('definition')]) "
   ]
  },
  {
   "cell_type": "code",
   "execution_count": 10,
   "id": "received-insider",
   "metadata": {},
   "outputs": [
    {
     "output_type": "execute_result",
     "data": {
      "text/plain": [
       "'fruto da bananeira, ger. oblongo e de polpa carnosa; pacoba, pacova, pacová [Quando comestível, é um fruto anômalo, sem sementes, desenvolvido por cultura, com casca verde e, quando maduro, amarela, parda ou avermelhada, com polpa brancacenta ou amarelada, pastosa, doce, esp. rica em amido e potássio.].'"
      ]
     },
     "metadata": {},
     "execution_count": 10
    }
   ],
   "source": [
    "aux[0][0]"
   ]
  },
  {
   "cell_type": "code",
   "execution_count": null,
   "metadata": {},
   "outputs": [],
   "source": []
  }
 ],
 "metadata": {
  "kernelspec": {
   "name": "python3",
   "display_name": "Python 3.8.5 64-bit ('telegram-bot-pEUP2I1E-py3.8')",
   "metadata": {
    "interpreter": {
     "hash": "32c4b17a798cb6aad6416db79f35c3bb835640f010e71d07a03952bf5eeb717f"
    }
   }
  },
  "language_info": {
   "codemirror_mode": {
    "name": "ipython",
    "version": 3
   },
   "file_extension": ".py",
   "mimetype": "text/x-python",
   "name": "python",
   "nbconvert_exporter": "python",
   "pygments_lexer": "ipython3",
   "version": "3.8.5-final"
  }
 },
 "nbformat": 4,
 "nbformat_minor": 5
}