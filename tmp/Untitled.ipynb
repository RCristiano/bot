{
 "cells": [
  {
   "cell_type": "code",
   "execution_count": 4,
   "id": "planned-footage",
   "metadata": {},
   "outputs": [],
   "source": [
    "import requests"
   ]
  },
  {
   "cell_type": "code",
   "execution_count": 55,
   "id": "familiar-crystal",
   "metadata": {},
   "outputs": [],
   "source": [
    "def defina(word):\n",
    "    req=requests.get(f\"https://api.dictionaryapi.dev/api/v2/entries/pt-BR/{word}\").json()\n",
    "    aux=[]\n",
    "    try:\n",
    "        for i,j in enumerate(req[0].get('meanings','Sem definição')[0].get('definitions')): \n",
    "            aux.append([i,j.get('definition')])            \n",
    "        return aux\n",
    "    except requests.exceptions.Timeout as a:\n",
    "        raise SystemExit(a)\n",
    "    except requests.exceptions.TooManyRedirects as b:\n",
    "        raise SystemExit(b)\n",
    "    except requests.exceptions.RequestException as c:\n",
    "        raise SystemExit(c)\n",
    "    except Exception as d:\n",
    "        print ('Não encontrei D:')"
   ]
  },
  {
   "cell_type": "code",
   "execution_count": 6,
   "id": "after-samuel",
   "metadata": {},
   "outputs": [],
   "source": [
    "req=requests.get(f\"https://api.dictionaryapi.dev/api/v2/entries/pt-BR/{'banana'}\").json()\n",
    "aux=[]\n",
    "for i in req[0].get('meanings','Sem definição')[0].get('definitions'): \n",
    "    aux.append([i.get('definition')]) "
   ]
  },
  {
   "cell_type": "code",
   "execution_count": 9,
   "id": "received-insider",
   "metadata": {},
   "outputs": [
    {
     "data": {
      "text/plain": [
       "'fruto da bananeira, ger. oblongo e de polpa carnosa; pacoba, pacova, pacová [Quando comestível, é um fruto anômalo, sem sementes, desenvolvido por cultura, com casca verde e, quando maduro, amarela, parda ou avermelhada, com polpa brancacenta ou amarelada, pastosa, doce, esp. rica em amido e potássio.].'"
      ]
     },
     "execution_count": 9,
     "metadata": {},
     "output_type": "execute_result"
    }
   ],
   "source": [
    "aux[0][0]"
   ]
  }
 ],
 "metadata": {
  "kernelspec": {
   "display_name": "Python 3",
   "language": "python",
   "name": "python3"
  },
  "language_info": {
   "codemirror_mode": {
    "name": "ipython",
    "version": 3
   },
   "file_extension": ".py",
   "mimetype": "text/x-python",
   "name": "python",
   "nbconvert_exporter": "python",
   "pygments_lexer": "ipython3",
   "version": "3.8.5"
  }
 },
 "nbformat": 4,
 "nbformat_minor": 5
}
